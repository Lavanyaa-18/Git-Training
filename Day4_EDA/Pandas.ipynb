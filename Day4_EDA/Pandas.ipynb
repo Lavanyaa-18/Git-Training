{
 "cells": [
  {
   "cell_type": "code",
   "execution_count": 1,
   "id": "b31d51e9-1195-4e22-b594-a3c003929cbb",
   "metadata": {},
   "outputs": [
    {
     "name": "stdout",
     "output_type": "stream",
     "text": [
      "Version: 2.2.3\n"
     ]
    }
   ],
   "source": [
    "import pandas as pd\n",
    "print('Version:',pd.__version__)"
   ]
  },
  {
   "cell_type": "code",
   "execution_count": 2,
   "id": "20665197-2434-4ec9-984c-7eeea1f6cb74",
   "metadata": {},
   "outputs": [
    {
     "name": "stdout",
     "output_type": "stream",
     "text": [
      "0    1\n",
      "1    3\n",
      "2    4\n",
      "3    5\n",
      "4    6\n",
      "5    6\n",
      "dtype: int64\n",
      "5\n"
     ]
    }
   ],
   "source": [
    "list=[1,3,4,5,6,6]\n",
    "myseries=pd.Series(list)\n",
    "print(myseries)\n",
    "print(myseries[3])"
   ]
  },
  {
   "cell_type": "code",
   "execution_count": 3,
   "id": "7c57a5d7-62a2-4f60-aa80-5270adc62d61",
   "metadata": {},
   "outputs": [
    {
     "name": "stdout",
     "output_type": "stream",
     "text": [
      "a    1\n",
      "b    7\n",
      "c    4\n",
      "dtype: int64\n",
      "7\n"
     ]
    }
   ],
   "source": [
    "a=[1,7,4]\n",
    "myvar=pd.Series(a,index=[\"a\",\"b\",\"c\"])\n",
    "print(myvar)\n",
    "print(myvar[\"b\"])"
   ]
  },
  {
   "cell_type": "code",
   "execution_count": 4,
   "id": "0e90a988-3fb7-43ee-9b84-743f64bf104c",
   "metadata": {},
   "outputs": [
    {
     "name": "stdout",
     "output_type": "stream",
     "text": [
      "id                 1\n",
      "name         Lavanya\n",
      "email      lavanya@1\n",
      "address       mysuru\n",
      "salary         98000\n",
      "dtype: object\n",
      "id 1\n",
      "name Lavanya\n"
     ]
    }
   ],
   "source": [
    "employee={\n",
    "    \"id\":1,\n",
    "    \"name\":\"Lavanya\",\n",
    "    \"email\":\"lavanya@1\",\n",
    "    \"address\":\"mysuru\",\n",
    "    \"salary\":98000\n",
    "}\n",
    "data=pd.Series(employee)\n",
    "print(data)\n",
    "print(\"id\",data[\"id\"])\n",
    "print(\"name\",data[\"name\"])"
   ]
  },
  {
   "cell_type": "code",
   "execution_count": 5,
   "id": "b13ca1c6-9611-4676-af16-1bd736570dfb",
   "metadata": {},
   "outputs": [
    {
     "name": "stdout",
     "output_type": "stream",
     "text": [
      "   id name\n",
      "0   1    X\n",
      "1   2    Y\n",
      "2   3    Z\n",
      "3   4    A\n",
      "id      1\n",
      "name    X\n",
      "Name: 0, dtype: object\n"
     ]
    }
   ],
   "source": [
    "sample={\n",
    "    \"id\":[1,2,3,4],\n",
    "    \"name\":[\"X\",\"Y\",\"Z\",\"A\"]\n",
    "}\n",
    "df=pd.DataFrame(sample)\n",
    "print(df)\n",
    "print(df.loc[0])"
   ]
  },
  {
   "cell_type": "code",
   "execution_count": 6,
   "id": "06a37685-a1a9-446b-8b45-e8c6cf26e533",
   "metadata": {},
   "outputs": [
    {
     "name": "stdout",
     "output_type": "stream",
     "text": [
      "   id name\n",
      "0   1    X\n",
      "2   3    Z\n"
     ]
    }
   ],
   "source": [
    "print(df.loc[[0,2]])#getting index based access"
   ]
  },
  {
   "cell_type": "code",
   "execution_count": 7,
   "id": "b2c6d177-6141-4b91-8af5-bba7a75b2c03",
   "metadata": {},
   "outputs": [
    {
     "name": "stdout",
     "output_type": "stream",
     "text": [
      "   id name\n",
      "0   1    A\n",
      "1   2    B\n",
      "2   3    C\n",
      "3   4    D\n",
      "id      1\n",
      "name    A\n",
      "Name: 0, dtype: object\n",
      "A\n",
      "id      1\n",
      "name    A\n",
      "Name: 0, dtype: object\n"
     ]
    }
   ],
   "source": [
    "sample = {\n",
    "    \"id\" : [1, 2, 3, 4,],\n",
    "    \"name\" : [\"A\", \"B\", \"C\", \"D\"]\n",
    "}\n",
    "df = pd.DataFrame(sample)\n",
    " \n",
    "print(df)\n",
    "print(df.loc[0])\n",
    "print(df.iloc[0, 1])\n",
    "print(df.loc[0])"
   ]
  },
  {
   "cell_type": "code",
   "execution_count": 8,
   "id": "50e3348c-d659-4538-984b-59861191c295",
   "metadata": {},
   "outputs": [
    {
     "name": "stdout",
     "output_type": "stream",
     "text": [
      "    name  age  salary          email\n",
      "0   alex   23    4556     alex@gamil\n",
      "1  catty   24    7567  cat@gmail.com\n",
      "2    bob   25   57567  bob@gmail.com\n"
     ]
    }
   ],
   "source": [
    "user_data = {\n",
    "    \"name\" : [ \"alex\", \"catty\", \"bob\"],\n",
    "    \"age\" : [23, 24, 25],\n",
    "    \"salary\" : [4556, 7567, 57567],\n",
    "    \"email\" : [\"alex@gamil\", \"cat@gmail.com\", \"bob@gmail.com\"]\n",
    "}\n",
    " \n",
    "df1 = pd.DataFrame(user_data)\n",
    "print(df1)"
   ]
  },
  {
   "cell_type": "code",
   "execution_count": 9,
   "id": "2c2677be-8d76-4bcd-8b1b-2f027e93f60a",
   "metadata": {},
   "outputs": [
    {
     "name": "stdout",
     "output_type": "stream",
     "text": [
      "    Name  Age         City\n",
      "0  Alice   25     New York\n",
      "1    BOB   30  Los angeles\n",
      "2  Chine   40          USA\n",
      "3  Diana   50       Canada\n"
     ]
    }
   ],
   "source": [
    "data=[\n",
    "    [\"Alice\",25,\"New York\"],\n",
    "     [\"BOB\",30,\"Los angeles\"],\n",
    "     [\"Chine\",40,\"USA\"],\n",
    "     [\"Diana\",50,\"Canada\"]\n",
    "]\n",
    "df=pd.DataFrame(data,columns=[\"Name\",\"Age\",\"City\"])\n",
    "print(df)\n",
    "    \n",
    "    "
   ]
  },
  {
   "cell_type": "code",
   "execution_count": 10,
   "id": "11383a7f-1a2a-475c-9346-311aabb72752",
   "metadata": {},
   "outputs": [
    {
     "name": "stdout",
     "output_type": "stream",
     "text": [
      "     id               name                      email      gender  grades\n",
      "0     1      Maren Mayhead  mmayhead0@themeforest.net     Agender       7\n",
      "1     2       Siffre Wiper          swiper1@webmd.com        Male       7\n",
      "2     3    Marje Sapsforde  msapsforde2@geocities.com      Female       3\n",
      "3     4  Claribel Prestage      cprestage3@utexas.edu      Female       4\n",
      "4     5      Giana Tweddle           gtweddle4@gov.uk      Female       9\n",
      "..  ...                ...                        ...         ...     ...\n",
      "95   96  Georgianna Ubanks   gubanks2n@privacy.gov.au      Female       6\n",
      "96   97        Debbi Cogin     dcogin2o@clickbank.net  Non-binary       2\n",
      "97   98    Farley Sheraton  fsheraton2p@clickbank.net        Male      10\n",
      "98   99    Jephthah Gaspar          jgaspar2q@ihg.com        Male       8\n",
      "99  100        Tiler Tiddy        ttiddy2r@google.com        Male       1\n",
      "\n",
      "[100 rows x 5 columns]\n"
     ]
    }
   ],
   "source": [
    "student_data=pd.read_csv('MOCK_DATA.csv')\n",
    "print(student_data)"
   ]
  },
  {
   "cell_type": "code",
   "execution_count": 13,
   "id": "91571a0d-3a70-4f43-971f-cc309c2bea94",
   "metadata": {},
   "outputs": [
    {
     "name": "stdout",
     "output_type": "stream",
     "text": [
      "     id                  name                          email   gender  grades\n",
      "0     1      Velvet O'Corrane         vocorrane0@dedecms.com   Female     1.6\n",
      "1     2      Maryanne Zannuto       mzannuto1@mayoclinic.com   Female     4.8\n",
      "2     3      Leighton Estable     lestable2@businesswire.com     Male     3.5\n",
      "3     4           Carlo Scott        cscott3@theguardian.com     Male     8.7\n",
      "4     5        Adamo Skerritt   askerritt4@blogtalkradio.com     Male     4.1\n",
      "..  ...                   ...                            ...      ...     ...\n",
      "95   96  Kimberley Kleinlerer       kkleinlerer2n@sfgate.com   Female     6.7\n",
      "96   97        Dame Broadbere  dbroadbere2o@businesswire.com     Male     6.6\n",
      "97   98        Sylvan Simison     ssimison2p@istockphoto.com     Male     2.5\n",
      "98   99         Renaud Leamon             rleamon2q@webs.com     Male     4.8\n",
      "99  100        Chilton Arnely             carnely2r@time.com  Agender     3.3\n",
      "\n",
      "[100 rows x 5 columns]\n"
     ]
    }
   ],
   "source": [
    "student_data=pd.read_csv('MOCK_DATA (1).csv')\n",
    "print(student_data)"
   ]
  },
  {
   "cell_type": "code",
   "execution_count": 15,
   "id": "5a403578-9968-4ea4-92ca-199c4a8d064d",
   "metadata": {},
   "outputs": [
    {
     "name": "stdout",
     "output_type": "stream",
     "text": [
      "   id              name                         email  gender  grades\n",
      "0   1  Velvet O'Corrane        vocorrane0@dedecms.com  Female     1.6\n",
      "1   2  Maryanne Zannuto      mzannuto1@mayoclinic.com  Female     4.8\n",
      "2   3  Leighton Estable    lestable2@businesswire.com    Male     3.5\n",
      "3   4       Carlo Scott       cscott3@theguardian.com    Male     8.7\n",
      "4   5    Adamo Skerritt  askerritt4@blogtalkradio.com    Male     4.1\n"
     ]
    }
   ],
   "source": [
    "student_data.head()\n",
    "print(student_data.head())"
   ]
  },
  {
   "cell_type": "code",
   "execution_count": 16,
   "id": "4e1cc01c-fc2d-47a4-8e4c-da024bade275",
   "metadata": {},
   "outputs": [
    {
     "name": "stdout",
     "output_type": "stream",
     "text": [
      "     id                  name                            email       gender  grades\n",
      "0     1      Velvet O'Corrane           vocorrane0@dedecms.com       Female     1.6\n",
      "1     2      Maryanne Zannuto         mzannuto1@mayoclinic.com       Female     4.8\n",
      "2     3      Leighton Estable       lestable2@businesswire.com         Male     3.5\n",
      "3     4           Carlo Scott          cscott3@theguardian.com         Male     8.7\n",
      "4     5        Adamo Skerritt     askerritt4@blogtalkradio.com         Male     4.1\n",
      "5     6          Page Creenan               pcreenan5@imdb.com         Male     3.8\n",
      "6     7           Calli Newns             cnewns6@virginia.edu       Female     8.5\n",
      "7     8          Delcina Kelf               dkelf7@nytimes.com       Female     9.9\n",
      "8     9   Nathanael Strudwick              nstrudwick8@usa.gov         Male     5.2\n",
      "9    10         Randell Bevir             rbevir9@netscape.com         Male     8.4\n",
      "10   11       Devondra Simnor            dsimnora@engadget.com       Female     5.5\n",
      "11   12            Wini Honig               whonigb@flavors.me       Female     3.0\n",
      "12   13       Chelsea Statton          cstattonc@reference.com       Female     1.2\n",
      "13   14   Allyson Aleksandrov          aaleksandrovd@wufoo.com       Female     7.7\n",
      "14   15         Binky Riddick            briddicke@myspace.com         Male     3.5\n",
      "15   16        Merridie Orvis          morvisf@miibeian.gov.cn       Female     3.2\n",
      "16   17      Pembroke Greeson         pgreesong@opensource.org         Male     1.8\n",
      "17   18        Marvin Justham           mjusthamh@geocities.jp         Male     1.5\n",
      "18   19      Linet Braycotton     lbraycottoni@list-manage.com      Agender     3.4\n",
      "19   20      Mandie Philbrick             mphilbrickj@uiuc.edu       Female     7.7\n",
      "20   21        Craig Chrismas     cchrismask@timesonline.co.uk         Male     6.8\n",
      "21   22        Selene Gillani               sgillanil@sohu.com       Female     3.6\n",
      "22   23      George Dumbleton               gdumbletonm@360.cn       Female     7.0\n",
      "23   24          Antony Clegg            acleggn@delicious.com         Male     7.7\n",
      "24   25         Alica Roblett          arobletto@imageshack.us       Female     4.5\n",
      "25   26          Iorgo Oloman             iolomanp@auda.org.au         Male     8.2\n",
      "26   27     Perkin Ellsworthe           pellswortheq@salon.com         Male     9.2\n",
      "27   28          Ferdie Foran                  fforanr@ovh.net         Male     9.1\n",
      "28   29         Cynthy McWhan         cmcwhans@tripadvisor.com       Female     2.0\n",
      "29   30        Kain Ivanichev         kivanichevt@so-net.ne.jp         Male     9.0\n",
      "30   31       Tynan Pennicard  tpennicardu@cargocollective.com         Male     1.3\n",
      "31   32      Michell Farraway       mfarrawayv@marketwatch.com       Female     7.7\n",
      "32   33           Isak Botger            ibotgerw@trellian.com   Non-binary     8.8\n",
      "33   34        Reggi Bummfrey                 rbummfreyx@ow.ly       Female     1.9\n",
      "34   35          Alvy Lantuff            alantuffy@blogger.com         Male     8.0\n",
      "35   36        Vincents Wooff               vwooffz@disqus.com         Male     2.3\n",
      "36   37       Martyn Dumphrey      mdumphrey10@hugedomains.com         Male     3.1\n",
      "37   38          Rick Paradis         rparadis11@bloomberg.com         Male     7.6\n",
      "38   39      Brewster Jugging         bjugging12@posterous.com         Male     9.7\n",
      "39   40   Toinette Regenhardt   tregenhardt13@odnoklassniki.ru       Female     1.8\n",
      "40   41       Shayla Carberry              scarberry14@mac.com       Female     3.3\n",
      "41   42         Lorant Newcom        lnewcom15@theatlantic.com         Male     7.4\n",
      "42   43         Maddie Foulis            mfoulis16@pcworld.com         Male     3.1\n",
      "43   44         Dill Howcroft     dhowcroft17@biblegateway.com         Male     2.5\n",
      "44   45         Lenci Macbane               lmacbane18@dot.gov         Male     4.4\n",
      "45   46         Gawen Burdass     gburdass19@independent.co.uk         Male     7.0\n",
      "46   47        Robinett Okell               rokell1a@upenn.edu       Female     3.7\n",
      "47   48        Swen Rosellini             srosellini1b@soup.io         Male     7.3\n",
      "48   49      Rodolph Benjamin          rbenjamin1c@t-online.de         Male     9.1\n",
      "49   50     Wakefield Guilayn    wguilayn1d@barnesandnoble.com         Male     4.2\n",
      "50   51    Antonetta Brigshaw              abrigshaw1e@loc.gov       Female     4.4\n",
      "51   52         Teddi Turfrey         tturfrey1f@google.com.br       Female     4.9\n",
      "52   53       Berenice Farden         bfarden1g@vistaprint.com       Female     9.2\n",
      "53   54     Xylina Starsmeare    xstarsmeare1h@hugedomains.com       Female     2.5\n",
      "54   55       Walden Glassard          wglassard1i@jiathis.com         Male     3.7\n",
      "55   56        Ilaire Steptow          isteptow1j@netvibes.com         Male     8.5\n",
      "56   57        Korella Spoole               kspoole1k@fema.gov       Female     6.9\n",
      "57   58      Jamison Schimpke     jschimpke1l@reverbnation.com         Male     1.1\n",
      "58   59        Rhianna Heliet          rheliet1m@wikipedia.org  Genderqueer     9.5\n",
      "59   60        Madella Weddup            mweddup1n@mozilla.com       Female     8.8\n",
      "60   61          Casey Powers         cpowers1o@infoseek.co.jp       Female     5.1\n",
      "61   62         Jolie Lemerle       jlemerle1p@tripadvisor.com       Female    10.0\n",
      "62   63   Bernardine Dunbabin         bdunbabin1q@symantec.com       Female     4.5\n",
      "63   64           Erwin Gutch              egutch1r@jalbum.net         Male     4.3\n",
      "64   65       Gaylord Marxsen        gmarxsen1s@vistaprint.com         Male     5.8\n",
      "65   66      Celisse Duinkerk         cduinkerk1t@buzzfeed.com  Genderfluid     8.8\n",
      "66   67      Jaquenetta Major             jmajor1u@comcast.net       Female     3.9\n",
      "67   68          Odie Randall        orandall1v@washington.edu         Male     1.3\n",
      "68   69         Sib Dmitrovic     sdmitrovic1w@dagondesign.com       Female     1.3\n",
      "69   70         Miles Ellwand       mellwand1x@marketwatch.com         Male     6.7\n",
      "70   71        Kalli Tuckwood      ktuckwood1y@themeforest.net       Female     9.1\n",
      "71   72    Kahaleel Roadnight     kroadnight1z@list-manage.com         Male     2.5\n",
      "72   73        Ottilie Sorley         osorley20@eventbrite.com       Female     1.3\n",
      "73   74          Jean Durrell        jdurrell21@infoseek.co.jp         Male     6.8\n",
      "74   75       Parsifal Liddle             pliddle22@utexas.edu         Male     3.1\n",
      "75   76        Haywood Ortiga              hortiga23@wiley.com         Male     3.9\n",
      "76   77        Nomi Anthiftle             nanthiftle24@gnu.org       Female     2.5\n",
      "77   78          Janot Gander               jgander25@ox.ac.uk       Female     2.9\n",
      "78   79         Pauly Parsons                pparsons26@360.cn         Male     8.8\n",
      "79   80     Donavon Ellicombe           dellicombe27@adobe.com         Male     9.2\n",
      "80   81        Reamonn Tonner                 rtonner28@vk.com         Male     2.0\n",
      "81   82          Lonna Crolla            lcrolla29@addthis.com       Female     4.2\n",
      "82   83     Rhianna Gallymore       rgallymore2a@instagram.com       Female     4.9\n",
      "83   84   Ruthann Tunnicliffe           rtunnicliffe2b@pbs.org       Female     5.6\n",
      "84   85      Adiana Gullivent            agullivent2c@ucsd.edu       Female     7.5\n",
      "85   86        Odette Stanyon         ostanyon2d@aboutads.info       Female     5.0\n",
      "86   87            Evie Piser               episer2e@patch.com       Female     6.5\n",
      "87   88         Gusty Ierland           gierland2f@yahoo.co.jp       Female     1.1\n",
      "88   89      Dagny Allsobrook     dallsobrook2g@craigslist.org         Male     7.9\n",
      "89   90     Gamaliel Dougliss             gdougliss2h@usgs.gov         Male     7.3\n",
      "90   91          Traver Quigg          tquigg2i@guardian.co.uk     Bigender     8.1\n",
      "91   92       Tiebout Linbohm           tlinbohm2j@4shared.com         Male     8.7\n",
      "92   93             Joey Peto              jpeto2k@mozilla.com         Male     6.6\n",
      "93   94          Enoch Jouhan         ejouhan2l@mayoclinic.com         Male     9.8\n",
      "94   95          Calv Hearley         chearley2m@wordpress.org         Male     4.1\n",
      "95   96  Kimberley Kleinlerer         kkleinlerer2n@sfgate.com       Female     6.7\n",
      "96   97        Dame Broadbere    dbroadbere2o@businesswire.com         Male     6.6\n",
      "97   98        Sylvan Simison       ssimison2p@istockphoto.com         Male     2.5\n",
      "98   99         Renaud Leamon               rleamon2q@webs.com         Male     4.8\n",
      "99  100        Chilton Arnely               carnely2r@time.com      Agender     3.3\n"
     ]
    }
   ],
   "source": [
    "print(student_data.to_string())"
   ]
  },
  {
   "cell_type": "code",
   "execution_count": 17,
   "id": "b47e28ba-5e8e-46bb-85b7-e55d95542828",
   "metadata": {},
   "outputs": [
    {
     "name": "stdout",
     "output_type": "stream",
     "text": [
      "     id            name               email   gender  grades\n",
      "98   99   Renaud Leamon  rleamon2q@webs.com     Male     4.8\n",
      "99  100  Chilton Arnely  carnely2r@time.com  Agender     3.3\n"
     ]
    }
   ],
   "source": [
    "print(student_data.tail(2))"
   ]
  },
  {
   "cell_type": "code",
   "execution_count": 18,
   "id": "33385608-2c8b-4ffd-9bd5-515e95114ec4",
   "metadata": {},
   "outputs": [
    {
     "name": "stdout",
     "output_type": "stream",
     "text": [
      "<class 'pandas.core.frame.DataFrame'>\n",
      "RangeIndex: 100 entries, 0 to 99\n",
      "Data columns (total 5 columns):\n",
      " #   Column  Non-Null Count  Dtype  \n",
      "---  ------  --------------  -----  \n",
      " 0   id      100 non-null    int64  \n",
      " 1   name    100 non-null    object \n",
      " 2   email   100 non-null    object \n",
      " 3   gender  100 non-null    object \n",
      " 4   grades  100 non-null    float64\n",
      "dtypes: float64(1), int64(1), object(3)\n",
      "memory usage: 4.0+ KB\n",
      "None\n"
     ]
    }
   ],
   "source": [
    "print(student_data.info())"
   ]
  },
  {
   "cell_type": "code",
   "execution_count": 19,
   "id": "23a529c6-cc90-4223-82a9-dcd23b121f7d",
   "metadata": {},
   "outputs": [
    {
     "data": {
      "text/html": [
       "<div>\n",
       "<style scoped>\n",
       "    .dataframe tbody tr th:only-of-type {\n",
       "        vertical-align: middle;\n",
       "    }\n",
       "\n",
       "    .dataframe tbody tr th {\n",
       "        vertical-align: top;\n",
       "    }\n",
       "\n",
       "    .dataframe thead th {\n",
       "        text-align: right;\n",
       "    }\n",
       "</style>\n",
       "<table border=\"1\" class=\"dataframe\">\n",
       "  <thead>\n",
       "    <tr style=\"text-align: right;\">\n",
       "      <th></th>\n",
       "      <th>id</th>\n",
       "      <th>grades</th>\n",
       "    </tr>\n",
       "  </thead>\n",
       "  <tbody>\n",
       "    <tr>\n",
       "      <th>count</th>\n",
       "      <td>100.000000</td>\n",
       "      <td>100.000000</td>\n",
       "    </tr>\n",
       "    <tr>\n",
       "      <th>mean</th>\n",
       "      <td>50.500000</td>\n",
       "      <td>5.428000</td>\n",
       "    </tr>\n",
       "    <tr>\n",
       "      <th>std</th>\n",
       "      <td>29.011492</td>\n",
       "      <td>2.704694</td>\n",
       "    </tr>\n",
       "    <tr>\n",
       "      <th>min</th>\n",
       "      <td>1.000000</td>\n",
       "      <td>1.100000</td>\n",
       "    </tr>\n",
       "    <tr>\n",
       "      <th>25%</th>\n",
       "      <td>25.750000</td>\n",
       "      <td>3.175000</td>\n",
       "    </tr>\n",
       "    <tr>\n",
       "      <th>50%</th>\n",
       "      <td>50.500000</td>\n",
       "      <td>4.950000</td>\n",
       "    </tr>\n",
       "    <tr>\n",
       "      <th>75%</th>\n",
       "      <td>75.250000</td>\n",
       "      <td>7.750000</td>\n",
       "    </tr>\n",
       "    <tr>\n",
       "      <th>max</th>\n",
       "      <td>100.000000</td>\n",
       "      <td>10.000000</td>\n",
       "    </tr>\n",
       "  </tbody>\n",
       "</table>\n",
       "</div>"
      ],
      "text/plain": [
       "               id      grades\n",
       "count  100.000000  100.000000\n",
       "mean    50.500000    5.428000\n",
       "std     29.011492    2.704694\n",
       "min      1.000000    1.100000\n",
       "25%     25.750000    3.175000\n",
       "50%     50.500000    4.950000\n",
       "75%     75.250000    7.750000\n",
       "max    100.000000   10.000000"
      ]
     },
     "execution_count": 19,
     "metadata": {},
     "output_type": "execute_result"
    }
   ],
   "source": [
    "student_data.describe()"
   ]
  },
  {
   "cell_type": "code",
   "execution_count": 21,
   "id": "a024ca1b-9d66-4b83-81d9-dc4c155c0fab",
   "metadata": {},
   "outputs": [
    {
     "data": {
      "text/html": [
       "<div>\n",
       "<style scoped>\n",
       "    .dataframe tbody tr th:only-of-type {\n",
       "        vertical-align: middle;\n",
       "    }\n",
       "\n",
       "    .dataframe tbody tr th {\n",
       "        vertical-align: top;\n",
       "    }\n",
       "\n",
       "    .dataframe thead th {\n",
       "        text-align: right;\n",
       "    }\n",
       "</style>\n",
       "<table border=\"1\" class=\"dataframe\">\n",
       "  <thead>\n",
       "    <tr style=\"text-align: right;\">\n",
       "      <th></th>\n",
       "      <th>id</th>\n",
       "      <th>name</th>\n",
       "      <th>grades</th>\n",
       "    </tr>\n",
       "  </thead>\n",
       "  <tbody>\n",
       "    <tr>\n",
       "      <th>0</th>\n",
       "      <td>1</td>\n",
       "      <td>Velvet O'Corrane</td>\n",
       "      <td>1.6</td>\n",
       "    </tr>\n",
       "    <tr>\n",
       "      <th>1</th>\n",
       "      <td>2</td>\n",
       "      <td>Maryanne Zannuto</td>\n",
       "      <td>4.8</td>\n",
       "    </tr>\n",
       "    <tr>\n",
       "      <th>2</th>\n",
       "      <td>3</td>\n",
       "      <td>Leighton Estable</td>\n",
       "      <td>3.5</td>\n",
       "    </tr>\n",
       "    <tr>\n",
       "      <th>3</th>\n",
       "      <td>4</td>\n",
       "      <td>Carlo Scott</td>\n",
       "      <td>8.7</td>\n",
       "    </tr>\n",
       "    <tr>\n",
       "      <th>4</th>\n",
       "      <td>5</td>\n",
       "      <td>Adamo Skerritt</td>\n",
       "      <td>4.1</td>\n",
       "    </tr>\n",
       "  </tbody>\n",
       "</table>\n",
       "</div>"
      ],
      "text/plain": [
       "   id              name  grades\n",
       "0   1  Velvet O'Corrane     1.6\n",
       "1   2  Maryanne Zannuto     4.8\n",
       "2   3  Leighton Estable     3.5\n",
       "3   4       Carlo Scott     8.7\n",
       "4   5    Adamo Skerritt     4.1"
      ]
     },
     "execution_count": 21,
     "metadata": {},
     "output_type": "execute_result"
    }
   ],
   "source": [
    "student_data[['id','name','grades']].head() #reading selevted col"
   ]
  },
  {
   "cell_type": "code",
   "execution_count": 23,
   "id": "156a5a63-5126-49e8-990f-d8dd0eadaca5",
   "metadata": {},
   "outputs": [
    {
     "data": {
      "text/plain": [
       "count    100.000000\n",
       "mean       5.428000\n",
       "std        2.704694\n",
       "min        1.100000\n",
       "25%        3.175000\n",
       "50%        4.950000\n",
       "75%        7.750000\n",
       "max       10.000000\n",
       "Name: grades, dtype: float64"
      ]
     },
     "execution_count": 23,
     "metadata": {},
     "output_type": "execute_result"
    }
   ],
   "source": [
    "student_data['grades'].describe()"
   ]
  },
  {
   "cell_type": "code",
   "execution_count": null,
   "id": "c97ac55a-3b86-4a2a-9d7f-6010968c5269",
   "metadata": {},
   "outputs": [],
   "source": []
  }
 ],
 "metadata": {
  "kernelspec": {
   "display_name": "Python 3 (ipykernel)",
   "language": "python",
   "name": "python3"
  },
  "language_info": {
   "codemirror_mode": {
    "name": "ipython",
    "version": 3
   },
   "file_extension": ".py",
   "mimetype": "text/x-python",
   "name": "python",
   "nbconvert_exporter": "python",
   "pygments_lexer": "ipython3",
   "version": "3.13.2"
  }
 },
 "nbformat": 4,
 "nbformat_minor": 5
}
